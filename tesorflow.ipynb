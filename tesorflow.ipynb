{
  "nbformat": 4,
  "nbformat_minor": 0,
  "metadata": {
    "colab": {
      "provenance": [],
      "gpuType": "T4",
      "authorship_tag": "ABX9TyN9QwSrOJrd69bvrMBFut7x",
      "include_colab_link": true
    },
    "kernelspec": {
      "name": "python3",
      "display_name": "Python 3"
    },
    "language_info": {
      "name": "python"
    },
    "accelerator": "GPU"
  },
  "cells": [
    {
      "cell_type": "markdown",
      "metadata": {
        "id": "view-in-github",
        "colab_type": "text"
      },
      "source": [
        "<a href=\"https://colab.research.google.com/github/udtmhr/Othello/blob/main/tesorflow.ipynb\" target=\"_parent\"><img src=\"https://colab.research.google.com/assets/colab-badge.svg\" alt=\"Open In Colab\"/></a>"
      ]
    },
    {
      "cell_type": "code",
      "execution_count": 14,
      "metadata": {
        "id": "0pzOgPJ8Q6cL"
      },
      "outputs": [],
      "source": [
        "import tensorflow as tf"
      ]
    },
    {
      "cell_type": "code",
      "source": [
        "#データの読み込み\n",
        "mnist = tf.keras.datasets.mnist\n",
        "\n",
        "(x_train, y_train), (x_test, y_test) = mnist.load_data()\n",
        "x_train, x_test = x_train / 255.0, x_test / 255.0 #ニューラルネットワークの入力は０～１の範囲が好ましいので正規化している"
      ],
      "metadata": {
        "id": "JscLsxeGSKEy"
      },
      "execution_count": 15,
      "outputs": []
    },
    {
      "cell_type": "code",
      "source": [
        "#モデルの作成\n",
        "model = tf.keras.models.Sequential([\n",
        "  tf.keras.layers.Flatten(input_shape=(28, 28)),\n",
        "  tf.keras.layers.Dense(128, activation='relu'),\n",
        "  tf.keras.layers.Dropout(0.2),\n",
        "  tf.keras.layers.Dense(10)\n",
        "])"
      ],
      "metadata": {
        "id": "gNw7ihK0heZh"
      },
      "execution_count": 17,
      "outputs": []
    },
    {
      "cell_type": "code",
      "source": [
        "predictions = model(x_train[:1]).numpy()\n",
        "predictions"
      ],
      "metadata": {
        "colab": {
          "base_uri": "https://localhost:8080/"
        },
        "id": "_n30LG0Yrbxc",
        "outputId": "763ff552-5dc0-4710-a323-55c13b6f6213"
      },
      "execution_count": 18,
      "outputs": [
        {
          "output_type": "execute_result",
          "data": {
            "text/plain": [
              "array([[-0.30723768, -0.29687044, -0.05416459, -0.4614042 ,  0.38315403,\n",
              "         0.53537536,  0.20663312,  0.6195381 ,  0.35873026, -0.5200459 ]],\n",
              "      dtype=float32)"
            ]
          },
          "metadata": {},
          "execution_count": 18
        }
      ]
    },
    {
      "cell_type": "code",
      "source": [
        "tf.nn.softmax(predictions).numpy()"
      ],
      "metadata": {
        "colab": {
          "base_uri": "https://localhost:8080/"
        },
        "id": "KeinndtGsMJj",
        "outputId": "9c443933-1b94-4787-fa18-e11be693d0df"
      },
      "execution_count": 19,
      "outputs": [
        {
          "output_type": "execute_result",
          "data": {
            "text/plain": [
              "array([[0.06482883, 0.06550443, 0.08349807, 0.05556668, 0.12930088,\n",
              "        0.15056026, 0.10837757, 0.16378035, 0.12618113, 0.05240187]],\n",
              "      dtype=float32)"
            ]
          },
          "metadata": {},
          "execution_count": 19
        }
      ]
    },
    {
      "cell_type": "code",
      "source": [
        "loss_fn = tf.keras.losses.SparseCategoricalCrossentropy(from_logits=True)\n",
        "loss_fn"
      ],
      "metadata": {
        "colab": {
          "base_uri": "https://localhost:8080/"
        },
        "id": "odmuDt6isUER",
        "outputId": "caf92bab-2810-4daa-9523-1d5af1759983"
      },
      "execution_count": 21,
      "outputs": [
        {
          "output_type": "execute_result",
          "data": {
            "text/plain": [
              "<keras.losses.SparseCategoricalCrossentropy at 0x7caf6cefb0d0>"
            ]
          },
          "metadata": {},
          "execution_count": 21
        }
      ]
    },
    {
      "cell_type": "code",
      "source": [
        "model.compile(optimizer=\"adam\",\n",
        "              loss=loss_fn,\n",
        "              metrics=[\"accuracy\"])"
      ],
      "metadata": {
        "id": "dvmcMjXTui9S"
      },
      "execution_count": 22,
      "outputs": []
    },
    {
      "cell_type": "code",
      "source": [
        "model.fit(x_train, y_train, epochs=5)"
      ],
      "metadata": {
        "colab": {
          "base_uri": "https://localhost:8080/"
        },
        "id": "mjAyIew5we5T",
        "outputId": "73ae92d9-9396-4681-ac02-1efd8f5452bc"
      },
      "execution_count": 23,
      "outputs": [
        {
          "output_type": "stream",
          "name": "stdout",
          "text": [
            "Epoch 1/5\n",
            "1875/1875 [==============================] - 8s 3ms/step - loss: 0.3022 - accuracy: 0.9111\n",
            "Epoch 2/5\n",
            "1875/1875 [==============================] - 5s 3ms/step - loss: 0.1459 - accuracy: 0.9557\n",
            "Epoch 3/5\n",
            "1875/1875 [==============================] - 6s 3ms/step - loss: 0.1089 - accuracy: 0.9677\n",
            "Epoch 4/5\n",
            "1875/1875 [==============================] - 5s 3ms/step - loss: 0.0892 - accuracy: 0.9722\n",
            "Epoch 5/5\n",
            "1875/1875 [==============================] - 5s 3ms/step - loss: 0.0765 - accuracy: 0.9765\n"
          ]
        },
        {
          "output_type": "execute_result",
          "data": {
            "text/plain": [
              "<keras.callbacks.History at 0x7caf6cfd0100>"
            ]
          },
          "metadata": {},
          "execution_count": 23
        }
      ]
    },
    {
      "cell_type": "code",
      "source": [
        "model.evaluate(x_test, y_test, verbose=2)"
      ],
      "metadata": {
        "colab": {
          "base_uri": "https://localhost:8080/"
        },
        "id": "ZK_hG7Ayw6sf",
        "outputId": "aeba27d0-c52a-47a9-9988-48a22f360506"
      },
      "execution_count": 24,
      "outputs": [
        {
          "output_type": "stream",
          "name": "stdout",
          "text": [
            "313/313 - 1s - loss: 0.0764 - accuracy: 0.9780 - 699ms/epoch - 2ms/step\n"
          ]
        },
        {
          "output_type": "execute_result",
          "data": {
            "text/plain": [
              "[0.0764191523194313, 0.9779999852180481]"
            ]
          },
          "metadata": {},
          "execution_count": 24
        }
      ]
    },
    {
      "cell_type": "code",
      "source": [
        "probability_model = tf.keras.Sequential([\n",
        "    model,\n",
        "    tf.keras.layers.Softmax(),\n",
        "])"
      ],
      "metadata": {
        "id": "Uj4yInPhyR-k"
      },
      "execution_count": 25,
      "outputs": []
    },
    {
      "cell_type": "code",
      "source": [
        "probability_model(x_test[:5])"
      ],
      "metadata": {
        "colab": {
          "base_uri": "https://localhost:8080/"
        },
        "id": "KmXvzvLYykGU",
        "outputId": "bfba9aa4-64c2-4bdb-8214-691fd221736f"
      },
      "execution_count": 26,
      "outputs": [
        {
          "output_type": "execute_result",
          "data": {
            "text/plain": [
              "<tf.Tensor: shape=(5, 10), dtype=float32, numpy=\n",
              "array([[1.20759021e-08, 1.00795161e-09, 1.23604650e-05, 1.29755848e-04,\n",
              "        3.58155888e-12, 2.29561046e-08, 3.19295719e-15, 9.99856710e-01,\n",
              "        4.34307914e-08, 1.10425117e-06],\n",
              "       [1.04987066e-07, 4.88445570e-04, 9.99384880e-01, 1.22899117e-04,\n",
              "        5.08919587e-15, 3.19524474e-06, 4.39096937e-08, 8.95919352e-13,\n",
              "        3.95417942e-07, 3.08481582e-12],\n",
              "       [1.22873762e-05, 9.99382257e-01, 8.51727818e-05, 8.15237672e-06,\n",
              "        2.12186587e-05, 1.65863385e-05, 8.77034909e-05, 2.18274101e-04,\n",
              "        1.63994890e-04, 4.39340829e-06],\n",
              "       [9.99965549e-01, 9.31028032e-11, 2.41648354e-06, 9.18374923e-08,\n",
              "        1.08340082e-07, 7.70904080e-07, 4.70719397e-06, 2.06914374e-05,\n",
              "        2.20178435e-08, 5.64396942e-06],\n",
              "       [1.11720192e-05, 3.69826950e-07, 4.37975996e-06, 1.46429180e-08,\n",
              "        9.98865366e-01, 1.87491750e-07, 1.36550889e-05, 2.41342670e-04,\n",
              "        1.24516157e-06, 8.62215820e-04]], dtype=float32)>"
            ]
          },
          "metadata": {},
          "execution_count": 26
        }
      ]
    }
  ]
}