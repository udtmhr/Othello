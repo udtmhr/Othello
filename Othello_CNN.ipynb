{
  "nbformat": 4,
  "nbformat_minor": 0,
  "metadata": {
    "colab": {
      "provenance": [],
      "gpuType": "V100",
      "machine_shape": "hm",
      "mount_file_id": "1BRn2WcJhcR4oo3iFz7MotoskzPSe2EpZ",
      "authorship_tag": "ABX9TyPn5R7zQtlHhhH3u4BAnXMV",
      "include_colab_link": true
    },
    "kernelspec": {
      "name": "python3",
      "display_name": "Python 3"
    },
    "language_info": {
      "name": "python"
    },
    "accelerator": "GPU"
  },
  "cells": [
    {
      "cell_type": "markdown",
      "metadata": {
        "id": "view-in-github",
        "colab_type": "text"
      },
      "source": [
        "<a href=\"https://colab.research.google.com/github/udtmhr/Othello/blob/main/Othello_CNN.ipynb\" target=\"_parent\"><img src=\"https://colab.research.google.com/assets/colab-badge.svg\" alt=\"Open In Colab\"/></a>"
      ]
    },
    {
      "cell_type": "code",
      "execution_count": null,
      "metadata": {
        "id": "VMSvR_5iUsMu",
        "colab": {
          "base_uri": "https://localhost:8080/"
        },
        "outputId": "0060d9be-d1a1-4931-e76d-50fdd702c45d"
      },
      "outputs": [
        {
          "output_type": "stream",
          "name": "stdout",
          "text": [
            "Drive already mounted at /content/drive; to attempt to forcibly remount, call drive.mount(\"/content/drive\", force_remount=True).\n"
          ]
        }
      ],
      "source": [
        "from google.colab import drive\n",
        "drive.mount('/content/drive')"
      ]
    },
    {
      "cell_type": "code",
      "source": [
        "import pandas as pd\n",
        "import numpy as np\n",
        "import os\n",
        "import random\n",
        "import sys\n",
        "import tensorflow as tf\n",
        "from tensorflow import keras\n",
        "from tensorflow.keras import layers, models\n",
        "from tensorflow.keras.callbacks import ModelCheckpoint"
      ],
      "metadata": {
        "id": "vuItemmybyuB"
      },
      "execution_count": null,
      "outputs": []
    },
    {
      "cell_type": "code",
      "source": [
        "sys.path.append('/content/drive/MyDrive/Colab Notebooks/OthelloAI')  # board.pyを使えるようにパスを通す\n",
        "\n",
        "# 文字列の置いた場所をボードの番号に直す\n",
        "def to_board_no(x, size=8):\n",
        "    return ord(x[0]) - ord(\"a\") + size * (int(x[1]) - 1)\n",
        "\n",
        "# dataframeを作る\n",
        "def to_dataframe(path):\n",
        "    df = pd.read_csv(path, encoding=\"utf-8\")\n",
        "    df = df[\"record\"].str.extractall(\"(..)\")\n",
        "    df.columns = [\"move_str\"]\n",
        "    df[\"move_int\"] = df[\"move_str\"].apply(to_board_no)\n",
        "    df.index.names = [\"id\", \"move_no\"]\n",
        "    return df\n",
        "\n",
        "# df = to_dataframe(\"/content/drive/MyDrive/Colab Notebooks/OthelloAI/wthor_csv/WTH_2023.csv\")\n",
        "# df.tail()"
      ],
      "metadata": {
        "id": "RiVLDMI5M6MU"
      },
      "execution_count": null,
      "outputs": []
    },
    {
      "cell_type": "code",
      "source": [
        "from board import Board\n",
        "\n",
        "\n",
        "# ビットボードを配列に直す\n",
        "def to_array(bitboard):\n",
        "    return np.array(list(bin(bitboard)[2:].zfill(64)), dtype=np.uint8)\n",
        "\n",
        "# ビットボードの部分列を入れ替える\n",
        "def delta_swap(x, mask, delta):\n",
        "    t = t = (x ^ (x >> delta)) & mask\n",
        "    return x ^ t ^ (t << delta)\n",
        "\n",
        "# ビットボードを左右反転\n",
        "def fliplr(x):\n",
        "    x = delta_swap(x, 0x5555555555555555, 1)\n",
        "    x = delta_swap(x, 0x3333333333333333, 2)\n",
        "    return delta_swap(x, 0x0F0F0F0F0F0F0F0F, 4)\n",
        "\n",
        "# ビットボードを左上から右下の対角線で反転\n",
        "def flipuldr(x):\n",
        "    x = delta_swap(x, 0x00AA00AA00AA00AA, 7)\n",
        "    x = delta_swap(x, 0x0000CCCC0000CCCC, 14)\n",
        "    return delta_swap(x, 0x00000000F0F0F0F0, 28)\n",
        "\n",
        "# ビットボードを時計回りに９０度回転\n",
        "def rot90(x):\n",
        "    return fliplr(flipuldr(x))\n",
        "\n",
        "board = Board()\n",
        "def make_data(df, x_train, y_train):\n",
        "    for i in df.index.levels[0]:\n",
        "        for _, _, pos in df.loc[i].itertuples():\n",
        "            pos = 0x8000000000000000 >> pos\n",
        "            pb, ob = board.pb, board.ob\n",
        "            rev = board.reverse(pos)\n",
        "            board.put(pos, rev)\n",
        "            board.next_player()\n",
        "            # 元の譜面\n",
        "            x_train.append(np.array([to_array(pb).reshape((8, 8)), to_array(ob).reshape((8, 8))], dtype=np.uint8))\n",
        "            y_train.append(to_array(pos))\n",
        "            # 時計回りに９０度を３回\n",
        "            for _ in range(3):\n",
        "                pb, ob = rot90(pb), rot90(ob)\n",
        "                pos = rot90(pos)\n",
        "                x_train.append(np.array([to_array(pb).reshape((8, 8)), to_array(ob).reshape((8, 8))], dtype=np.uint8))\n",
        "                y_train.append(to_array(pos))\n",
        "            # 転置した譜面\n",
        "            pb, ob = flipuldr(rot90(pb)), flipuldr(rot90(ob))\n",
        "            pos = flipuldr(rot90(pos))\n",
        "            x_train.append(np.array([to_array(pb).reshape((8, 8)), to_array(ob).reshape((8, 8))], dtype=np.uint8))\n",
        "            y_train.append(to_array(pos))\n",
        "            # 時計回りに９０度を３回\n",
        "            for _ in range(3):\n",
        "                pb, ob = rot90(pb), rot90(ob)\n",
        "                pos = rot90(pos)\n",
        "                x_train.append(np.array([to_array(pb).reshape((8, 8)), to_array(ob).reshape((8, 8))], dtype=np.uint8))\n",
        "                y_train.append(to_array(pos))\n",
        "        board.init()"
      ],
      "metadata": {
        "id": "7mxr80CWZeAP"
      },
      "execution_count": null,
      "outputs": []
    },
    {
      "cell_type": "code",
      "source": [
        "x_train = []\n",
        "y_train =\n",
        "dir_path = \"/content/drive/MyDrive/Colab Notebooks/OthelloAI/wthor_csv\"\n",
        "file_lst = os.listdir(dir_path)\n",
        "for file in file_lst[23:]: # メモリ不足にならないよう２０００年以降から\n",
        "    print(file)\n",
        "    df = to_dataframe(os.path.join(dir_path, file))\n",
        "    make_data(df, x_train, y_train)"
      ],
      "metadata": {
        "id": "104UBZgh5XsR"
      },
      "execution_count": null,
      "outputs": []
    },
    {
      "cell_type": "code",
      "source": [
        "x_train = np.array(x_train, dtype=np.uint8)\n",
        "y_train = np.array(y_train, dtype=np.uint8)"
      ],
      "metadata": {
        "id": "nfLCP1XGG8d7"
      },
      "execution_count": null,
      "outputs": []
    },
    {
      "cell_type": "code",
      "source": [
        "data_size = y_train.shape[0]\n",
        "rand = np.random.choice(data_size, data_size, replace=False)\n",
        "x_train =  x_train[rand,:,:]\n",
        "y_train = y_train[rand]\n",
        "del rand\n"
      ],
      "metadata": {
        "id": "-A1iupzxt1xx"
      },
      "execution_count": null,
      "outputs": []
    },
    {
      "cell_type": "code",
      "source": [
        "np.savez_compressed(\"/content/drive/MyDrive/Colab Notebooks/OthelloAI/learn data/x_train.npz\", x_train)\n",
        "np.savez_compressed(\"/content/drive/MyDrive/Colab Notebooks/OthelloAI/learn data/y_train.npz\", y_train)"
      ],
      "metadata": {
        "id": "KSYiem8O33jD"
      },
      "execution_count": null,
      "outputs": []
    },
    {
      "cell_type": "code",
      "source": [
        "del x_train, y_train"
      ],
      "metadata": {
        "id": "0AhbNY34KQXo"
      },
      "execution_count": null,
      "outputs": []
    },
    {
      "cell_type": "code",
      "source": [
        "tf.test.is_gpu_available()"
      ],
      "metadata": {
        "colab": {
          "base_uri": "https://localhost:8080/"
        },
        "id": "AZhRChEh-EZU",
        "outputId": "a1c6f93e-8804-4e47-c159-71a6ab4a4c3f"
      },
      "execution_count": null,
      "outputs": [
        {
          "output_type": "stream",
          "name": "stderr",
          "text": [
            "WARNING:tensorflow:From <ipython-input-3-17bb7203622b>:1: is_gpu_available (from tensorflow.python.framework.test_util) is deprecated and will be removed in a future version.\n",
            "Instructions for updating:\n",
            "Use `tf.config.list_physical_devices('GPU')` instead.\n"
          ]
        },
        {
          "output_type": "execute_result",
          "data": {
            "text/plain": [
              "True"
            ]
          },
          "metadata": {},
          "execution_count": 3
        }
      ]
    },
    {
      "cell_type": "code",
      "source": [
        "class Bias(keras.layers.Layer):\n",
        "    def __init__(self, input_shape):\n",
        "        super(Bias, self).__init__()\n",
        "        self.w = tf.Variable(initial_value=tf.zeros(input_shape[1:]), trainable=True)\n",
        "\n",
        "    def call(self, inputs):\n",
        "        return inputs + self.w\n",
        "\n",
        "model = models.Sequential()\n",
        "model.add(layers.Permute((2,3,1), input_shape=(2,8,8)))\n",
        "model.add(layers.Conv2D(128, kernel_size=3,padding='same', activation='relu'))\n",
        "model.add(layers.Conv2D(128, kernel_size=3,padding='same',activation='relu'))\n",
        "model.add(layers.Conv2D(128, kernel_size=3,padding='same',activation='relu'))\n",
        "model.add(layers.Conv2D(128, kernel_size=3,padding='same',activation='relu'))\n",
        "model.add(layers.Conv2D(128, kernel_size=3,padding='same',activation='relu'))\n",
        "model.add(layers.Conv2D(128, kernel_size=3,padding='same',activation='relu'))\n",
        "model.add(layers.Conv2D(128, kernel_size=3,padding='same',activation='relu'))\n",
        "model.add(layers.Conv2D(128, kernel_size=3,padding='same',activation='relu'))\n",
        "model.add(layers.Conv2D(128, kernel_size=3,padding='same',activation='relu'))\n",
        "model.add(layers.Conv2D(128, kernel_size=3,padding='same',activation='relu'))\n",
        "model.add(layers.Conv2D(128, kernel_size=3,padding='same',activation='relu'))\n",
        "model.add(layers.Conv2D(128, kernel_size=3,padding='same',activation='relu'))\n",
        "model.add(layers.Conv2D(1, kernel_size=1,use_bias=False))\n",
        "model.add(layers.Flatten())\n",
        "model.add(Bias((1, 64)))\n",
        "model.add(layers.Activation('softmax'))"
      ],
      "metadata": {
        "id": "Y8RbzOJb4lAD"
      },
      "execution_count": null,
      "outputs": []
    },
    {
      "cell_type": "code",
      "source": [
        "model.compile(optimizer=\"adam\", loss='categorical_crossentropy', metrics=['accuracy'])"
      ],
      "metadata": {
        "id": "StjLDQaHGOA4"
      },
      "execution_count": null,
      "outputs": []
    },
    {
      "cell_type": "code",
      "source": [
        "MODEL_DIR = \"/content/drive/MyDrive/Colab Notebooks/OthelloAI/model\"\n",
        "\n",
        "if not os.path.exists(MODEL_DIR):  # ディレクトリが存在しない場合、作成する。\n",
        "    os.makedirs(MODEL_DIR)\n",
        "checkpoint = ModelCheckpoint(\n",
        "    filepath=os.path.join(MODEL_DIR, \"model-{epoch:02d}.h5\"), save_best_only=True)\n",
        "\n",
        "x_train = np.load(\"/content/drive/MyDrive/Colab Notebooks/OthelloAI/learn data/x_train.npz\")[\"arr_0\"]\n",
        "y_train = np.load(\"/content/drive/MyDrive/Colab Notebooks/OthelloAI/learn data/y_train.npz\")[\"arr_0\"]\n",
        "try:\n",
        "    history = model.fit(x_train, y_train, batch_size=1024, epochs=25, validation_split=0.1, callbacks=[checkpoint])\n",
        "except KeyboardInterrupt:\n",
        "    model.save('saved_model/my_model')"
      ],
      "metadata": {
        "id": "1FNQz3u1HUJZ",
        "colab": {
          "base_uri": "https://localhost:8080/"
        },
        "outputId": "06055257-557d-466b-a5ca-4f4b9e151a4d"
      },
      "execution_count": null,
      "outputs": [
        {
          "output_type": "stream",
          "name": "stdout",
          "text": [
            "Epoch 1/25\n",
            "28776/28776 [==============================] - 971s 33ms/step - loss: 1.1495 - accuracy: 0.5661 - val_loss: 1.0633 - val_accuracy: 0.5939\n",
            "Epoch 2/25\n",
            "28776/28776 [==============================] - 968s 34ms/step - loss: 1.0459 - accuracy: 0.6004 - val_loss: 1.0438 - val_accuracy: 0.6024\n",
            "Epoch 3/25\n",
            "28776/28776 [==============================] - 973s 34ms/step - loss: 1.0275 - accuracy: 0.6074 - val_loss: 1.0237 - val_accuracy: 0.6084\n",
            "Epoch 4/25\n",
            "28776/28776 [==============================] - 978s 34ms/step - loss: 1.0186 - accuracy: 0.6108 - val_loss: 1.0273 - val_accuracy: 0.6072\n",
            "Epoch 5/25\n",
            "28776/28776 [==============================] - 965s 34ms/step - loss: 1.0131 - accuracy: 0.6128 - val_loss: 1.0230 - val_accuracy: 0.6113\n",
            "Epoch 6/25\n",
            " 5295/28776 [====>.........................] - ETA: 12:40 - loss: 1.0047 - accuracy: 0.6160"
          ]
        },
        {
          "output_type": "stream",
          "name": "stderr",
          "text": [
            "WARNING:absl:Found untraced functions such as _jit_compiled_convolution_op, _jit_compiled_convolution_op, _jit_compiled_convolution_op, _jit_compiled_convolution_op, _jit_compiled_convolution_op while saving (showing 5 of 13). These functions will not be directly callable after loading.\n"
          ]
        }
      ]
    },
    {
      "cell_type": "code",
      "source": [
        "data = np.array([[\n",
        "[[0,0,0,0,0,0,0,0],\n",
        " [0,0,0,0,0,0,0,0],\n",
        " [0,0,0,0,0,0,0,0],\n",
        " [0,0,0,0,1,0,0,0],\n",
        " [0,0,0,1,0,0,0,0],\n",
        " [0,0,0,0,0,0,0,0],\n",
        " [0,0,0,0,0,0,0,0],\n",
        " [0,0,0,0,0,0,0,0]],\n",
        "\n",
        "[[0,0,0,0,0,0,0,0],\n",
        " [0,0,0,0,0,0,0,0],\n",
        " [0,0,0,0,0,0,0,0],\n",
        " [0,0,0,1,0,0,0,0],\n",
        " [0,0,0,0,1,0,0,0],\n",
        " [0,0,0,0,0,0,0,0],\n",
        " [0,0,0,0,0,0,0,0],\n",
        " [0,0,0,0,0,0,0,0]]]],dtype=np.int8)\n",
        "probability = model.predict(data)\n",
        "probability"
      ],
      "metadata": {
        "colab": {
          "base_uri": "https://localhost:8080/"
        },
        "id": "9_MNTpWBzH-t",
        "outputId": "73e45507-c82d-473c-916f-46473007a8bd"
      },
      "execution_count": null,
      "outputs": [
        {
          "output_type": "stream",
          "name": "stdout",
          "text": [
            "1/1 [==============================] - 0s 35ms/step\n"
          ]
        },
        {
          "output_type": "execute_result",
          "data": {
            "text/plain": [
              "array([[3.6638582e-08, 8.4647169e-08, 2.8491817e-08, 2.0508621e-08,\n",
              "        5.2463847e-09, 2.7259295e-09, 2.3414422e-09, 2.3354318e-11,\n",
              "        2.9009786e-09, 4.3094904e-08, 3.0946293e-07, 1.6065378e-08,\n",
              "        2.2296813e-09, 1.8013090e-10, 7.8230492e-11, 1.6611569e-10,\n",
              "        3.0897884e-10, 1.5876205e-09, 1.6364149e-09, 2.5540057e-01,\n",
              "        8.6800282e-11, 1.4989336e-10, 1.2408100e-10, 3.5474956e-11,\n",
              "        2.2891827e-10, 7.4231870e-08, 2.6526859e-01, 1.3733800e-11,\n",
              "        3.1104529e-11, 1.1962960e-08, 2.6064486e-09, 5.4200457e-11,\n",
              "        2.9209331e-09, 2.9109733e-08, 3.5129506e-09, 1.7047874e-11,\n",
              "        3.7022377e-12, 2.3173106e-01, 9.5098018e-09, 4.9624429e-09,\n",
              "        2.9905362e-08, 1.8510121e-08, 2.3488405e-09, 9.4172727e-08,\n",
              "        2.4758957e-01, 1.3876728e-07, 7.2643292e-07, 2.7618444e-07,\n",
              "        8.5080160e-08, 7.8847037e-08, 3.7782041e-08, 7.9147782e-08,\n",
              "        5.7072390e-07, 1.6278820e-07, 4.0852402e-08, 2.5768015e-06,\n",
              "        1.1921380e-06, 1.2920663e-07, 7.4463586e-08, 4.4549748e-07,\n",
              "        1.6651423e-07, 1.9253448e-06, 3.2210096e-07, 3.9099868e-07]],\n",
              "      dtype=float32)"
            ]
          },
          "metadata": {},
          "execution_count": 30
        }
      ]
    },
    {
      "cell_type": "code",
      "source": [
        "import matplotlib.pyplot as plt\n",
        "from matplotlib.colors import LogNorm\n",
        "\n",
        "cmap = plt.get_cmap('summer')\n",
        "plt.imshow(probability.reshape((8, 8)), cmap=cmap, norm=LogNorm())\n",
        "plt.colorbar()\n",
        "plt.show()"
      ],
      "metadata": {
        "colab": {
          "base_uri": "https://localhost:8080/",
          "height": 430
        },
        "id": "FfGl8pTj6oiA",
        "outputId": "ccc845aa-9d58-40f6-80ff-2964bcdcddcb"
      },
      "execution_count": null,
      "outputs": [
        {
          "output_type": "display_data",
          "data": {
            "text/plain": [
              "<Figure size 640x480 with 2 Axes>"
            ],
            "image/png": "[encoded data removed]"
          },
          "metadata": {}
        }
      ]
    }
  ]
}